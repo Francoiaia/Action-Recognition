{
 "cells": [
  {
   "cell_type": "code",
   "execution_count": 4,
   "id": "initial_id",
   "metadata": {
    "ExecuteTime": {
     "end_time": "2025-01-18T17:10:20.660720Z",
     "start_time": "2025-01-18T17:10:20.641702Z"
    },
    "collapsed": true
   },
   "outputs": [
    {
     "name": "stdout",
     "output_type": "stream",
     "text": [
      "empty(1): tensor([0.])\n",
      "empty(2): tensor([0., 0.])\n",
      "empty(3): tensor([0., 0., 0.])\n",
      "empty(2,2,3): tensor([[[0., 0., 0.],\n",
      "         [0., 0., 0.]],\n",
      "\n",
      "        [[0., 0., 0.],\n",
      "         [0., 0., 0.]]])\n",
      "empty(2,2,3): tensor([[[0., 0., 0.],\n",
      "         [0., 0., 0.]],\n",
      "\n",
      "        [[0., 0., 0.],\n",
      "         [0., 0., 0.]]])\n"
     ]
    }
   ],
   "source": [
    "import torch\n",
    "\n",
    "x = torch.empty(1)\n",
    "print(\"empty(1):\", x)\n",
    "x = torch.empty(2)\n",
    "print(\"empty(2):\", x)\n",
    "x = torch.empty(3)\n",
    "print(\"empty(3):\", x)\n",
    "x = torch.empty(2, 2, 3)\n",
    "print(\"empty(2,2,3):\", x)\n",
    "x = torch.zeros(2, 2, 3)\n",
    "print(\"empty(2,2,3):\", x)"
   ]
  },
  {
   "cell_type": "code",
   "execution_count": 9,
   "id": "edfde199d124e73b",
   "metadata": {
    "ExecuteTime": {
     "end_time": "2025-01-18T17:12:21.246124Z",
     "start_time": "2025-01-18T17:12:21.234107Z"
    }
   },
   "outputs": [
    {
     "name": "stdout",
     "output_type": "stream",
     "text": [
      "tensor([1.1000, 2.0000, 3.0000], requires_grad=True)\n"
     ]
    }
   ],
   "source": [
    "x = torch.tensor([1.1, 2, 3], requires_grad=True)\n",
    "print(x)"
   ]
  },
  {
   "cell_type": "code",
   "execution_count": 10,
   "id": "c60d1850a594a8d6",
   "metadata": {
    "ExecuteTime": {
     "end_time": "2025-01-18T17:13:23.861361Z",
     "start_time": "2025-01-18T17:13:23.839614Z"
    }
   },
   "outputs": [
    {
     "name": "stdout",
     "output_type": "stream",
     "text": [
      "tensor([[2., 2.],\n",
      "        [2., 2.]])\n"
     ]
    }
   ],
   "source": [
    "x = torch.ones(2, 2)\n",
    "y = torch.ones(2, 2)\n",
    "z = x + y"
   ]
  }
 ],
 "metadata": {
  "kernelspec": {
   "display_name": "Python 3",
   "language": "python",
   "name": "python3"
  },
  "language_info": {
   "codemirror_mode": {
    "name": "ipython",
    "version": 2
   },
   "file_extension": ".py",
   "mimetype": "text/x-python",
   "name": "python",
   "nbconvert_exporter": "python",
   "pygments_lexer": "ipython2",
   "version": "2.7.6"
  }
 },
 "nbformat": 4,
 "nbformat_minor": 5
}
